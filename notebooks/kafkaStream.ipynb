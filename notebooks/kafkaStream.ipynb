{
 "cells": [
  {
   "cell_type": "code",
   "execution_count": 1,
   "metadata": {},
   "outputs": [
    {
     "name": "stdout",
     "output_type": "stream",
     "text": [
      ":: loading settings :: url = jar:file:/opt/conda/lib/python3.11/site-packages/pyspark/jars/ivy-2.5.1.jar!/org/apache/ivy/core/settings/ivysettings.xml\n"
     ]
    },
    {
     "name": "stderr",
     "output_type": "stream",
     "text": [
      "Ivy Default Cache set to: /home/trannam/.ivy2/cache\n",
      "The jars for the packages stored in: /home/trannam/.ivy2/jars\n",
      "org.apache.spark#spark-sql-kafka-0-10_2.12 added as a dependency\n",
      ":: resolving dependencies :: org.apache.spark#spark-submit-parent-187b415f-223b-4c0b-8f68-e968b51a3331;1.0\n",
      "\tconfs: [default]\n",
      "\tfound org.apache.spark#spark-sql-kafka-0-10_2.12;3.5.3 in central\n",
      "\tfound org.apache.spark#spark-token-provider-kafka-0-10_2.12;3.5.3 in central\n",
      "\tfound org.apache.kafka#kafka-clients;3.4.1 in central\n",
      "\tfound org.lz4#lz4-java;1.8.0 in central\n",
      "\tfound org.xerial.snappy#snappy-java;1.1.10.5 in central\n",
      "\tfound org.slf4j#slf4j-api;2.0.7 in central\n",
      "\tfound org.apache.hadoop#hadoop-client-runtime;3.3.4 in central\n",
      "\tfound org.apache.hadoop#hadoop-client-api;3.3.4 in central\n",
      "\tfound commons-logging#commons-logging;1.1.3 in central\n",
      "\tfound com.google.code.findbugs#jsr305;3.0.0 in central\n",
      "\tfound org.apache.commons#commons-pool2;2.11.1 in central\n",
      "downloading https://repo1.maven.org/maven2/org/apache/spark/spark-sql-kafka-0-10_2.12/3.5.3/spark-sql-kafka-0-10_2.12-3.5.3.jar ...\n",
      "\t[SUCCESSFUL ] org.apache.spark#spark-sql-kafka-0-10_2.12;3.5.3!spark-sql-kafka-0-10_2.12.jar (2306ms)\n",
      "downloading https://repo1.maven.org/maven2/org/apache/spark/spark-token-provider-kafka-0-10_2.12/3.5.3/spark-token-provider-kafka-0-10_2.12-3.5.3.jar ...\n",
      "\t[SUCCESSFUL ] org.apache.spark#spark-token-provider-kafka-0-10_2.12;3.5.3!spark-token-provider-kafka-0-10_2.12.jar (897ms)\n",
      "downloading https://repo1.maven.org/maven2/org/apache/kafka/kafka-clients/3.4.1/kafka-clients-3.4.1.jar ...\n",
      "\t[SUCCESSFUL ] org.apache.kafka#kafka-clients;3.4.1!kafka-clients.jar (15901ms)\n",
      "downloading https://repo1.maven.org/maven2/com/google/code/findbugs/jsr305/3.0.0/jsr305-3.0.0.jar ...\n",
      "\t[SUCCESSFUL ] com.google.code.findbugs#jsr305;3.0.0!jsr305.jar (577ms)\n",
      "downloading https://repo1.maven.org/maven2/org/apache/commons/commons-pool2/2.11.1/commons-pool2-2.11.1.jar ...\n",
      "\t[SUCCESSFUL ] org.apache.commons#commons-pool2;2.11.1!commons-pool2.jar (636ms)\n",
      "downloading https://repo1.maven.org/maven2/org/apache/hadoop/hadoop-client-runtime/3.3.4/hadoop-client-runtime-3.3.4.jar ...\n",
      "\t[SUCCESSFUL ] org.apache.hadoop#hadoop-client-runtime;3.3.4!hadoop-client-runtime.jar (21134ms)\n",
      "downloading https://repo1.maven.org/maven2/org/lz4/lz4-java/1.8.0/lz4-java-1.8.0.jar ...\n",
      "\t[SUCCESSFUL ] org.lz4#lz4-java;1.8.0!lz4-java.jar (799ms)\n",
      "downloading https://repo1.maven.org/maven2/org/xerial/snappy/snappy-java/1.1.10.5/snappy-java-1.1.10.5.jar ...\n",
      "\t[SUCCESSFUL ] org.xerial.snappy#snappy-java;1.1.10.5!snappy-java.jar(bundle) (1578ms)\n",
      "downloading https://repo1.maven.org/maven2/org/slf4j/slf4j-api/2.0.7/slf4j-api-2.0.7.jar ...\n",
      "\t[SUCCESSFUL ] org.slf4j#slf4j-api;2.0.7!slf4j-api.jar (603ms)\n",
      "downloading https://repo1.maven.org/maven2/org/apache/hadoop/hadoop-client-api/3.3.4/hadoop-client-api-3.3.4.jar ...\n",
      "\t[SUCCESSFUL ] org.apache.hadoop#hadoop-client-api;3.3.4!hadoop-client-api.jar (11651ms)\n",
      "downloading https://repo1.maven.org/maven2/commons-logging/commons-logging/1.1.3/commons-logging-1.1.3.jar ...\n",
      "\t[SUCCESSFUL ] commons-logging#commons-logging;1.1.3!commons-logging.jar (542ms)\n",
      ":: resolution report :: resolve 31326ms :: artifacts dl 56733ms\n",
      "\t:: modules in use:\n",
      "\tcom.google.code.findbugs#jsr305;3.0.0 from central in [default]\n",
      "\tcommons-logging#commons-logging;1.1.3 from central in [default]\n",
      "\torg.apache.commons#commons-pool2;2.11.1 from central in [default]\n",
      "\torg.apache.hadoop#hadoop-client-api;3.3.4 from central in [default]\n",
      "\torg.apache.hadoop#hadoop-client-runtime;3.3.4 from central in [default]\n",
      "\torg.apache.kafka#kafka-clients;3.4.1 from central in [default]\n",
      "\torg.apache.spark#spark-sql-kafka-0-10_2.12;3.5.3 from central in [default]\n",
      "\torg.apache.spark#spark-token-provider-kafka-0-10_2.12;3.5.3 from central in [default]\n",
      "\torg.lz4#lz4-java;1.8.0 from central in [default]\n",
      "\torg.slf4j#slf4j-api;2.0.7 from central in [default]\n",
      "\torg.xerial.snappy#snappy-java;1.1.10.5 from central in [default]\n",
      "\t---------------------------------------------------------------------\n",
      "\t|                  |            modules            ||   artifacts   |\n",
      "\t|       conf       | number| search|dwnlded|evicted|| number|dwnlded|\n",
      "\t---------------------------------------------------------------------\n",
      "\t|      default     |   11  |   11  |   11  |   0   ||   11  |   11  |\n",
      "\t---------------------------------------------------------------------\n",
      ":: retrieving :: org.apache.spark#spark-submit-parent-187b415f-223b-4c0b-8f68-e968b51a3331\n",
      "\tconfs: [default]\n",
      "\t11 artifacts copied, 0 already retrieved (57002kB/687ms)\n",
      "24/12/06 08:52:19 WARN NativeCodeLoader: Unable to load native-hadoop library for your platform... using builtin-java classes where applicable\n",
      "Setting default log level to \"WARN\".\n",
      "To adjust logging level use sc.setLogLevel(newLevel). For SparkR, use setLogLevel(newLevel).\n",
      "24/12/06 08:52:34 WARN ResolveWriteToStream: Temporary checkpoint location created which is deleted normally when the query didn't fail: /tmp/temporary-d269ecf3-35d9-49cc-b1e3-679c1c7247dc. If it's required to delete it under any circumstances, please set spark.sql.streaming.forceDeleteTempCheckpointLocation to true. Important to know deleting temp checkpoint folder is best effort.\n",
      "24/12/06 08:52:34 WARN ResolveWriteToStream: spark.sql.adaptive.enabled is not supported in streaming DataFrames/Datasets and will be disabled.\n"
     ]
    },
    {
     "name": "stdout",
     "output_type": "stream",
     "text": [
      "<class 'pyspark.sql.streaming.query.StreamingQuery'>\n"
     ]
    },
    {
     "name": "stderr",
     "output_type": "stream",
     "text": [
      "24/12/06 08:52:37 WARN AdminClientConfig: These configurations '[key.deserializer, value.deserializer, enable.auto.commit, max.poll.records, auto.offset.reset]' were supplied but are not used yet.\n",
      "                                                                                \r"
     ]
    },
    {
     "name": "stdout",
     "output_type": "stream",
     "text": [
      "-------------------------------------------\n",
      "Batch: 0\n",
      "-------------------------------------------\n",
      "+----+--------------------+\n",
      "| key|               value|\n",
      "+----+--------------------+\n",
      "|NULL|54.36.149.41 - - ...|\n",
      "|NULL|31.56.96.51 - - [...|\n",
      "|NULL|31.56.96.51 - - [...|\n",
      "|NULL|40.77.167.129 - -...|\n",
      "|NULL|91.99.72.15 - - [...|\n",
      "|NULL|40.77.167.129 - -...|\n",
      "|NULL|40.77.167.129 - -...|\n",
      "|NULL|40.77.167.129 - -...|\n",
      "|NULL|66.249.66.194 - -...|\n",
      "|NULL|40.77.167.129 - -...|\n",
      "|NULL|207.46.13.136 - -...|\n",
      "|NULL|40.77.167.129 - -...|\n",
      "|NULL|178.253.33.51 - -...|\n",
      "|NULL|40.77.167.129 - -...|\n",
      "|NULL|91.99.72.15 - - [...|\n",
      "|NULL|40.77.167.129 - -...|\n",
      "|NULL|207.46.13.136 - -...|\n",
      "|NULL|40.77.167.129 - -...|\n",
      "|NULL|40.77.167.129 - -...|\n",
      "|NULL|66.249.66.194 - -...|\n",
      "+----+--------------------+\n",
      "only showing top 20 rows\n",
      "\n"
     ]
    },
    {
     "name": "stderr",
     "output_type": "stream",
     "text": [
      "                                                                                \r"
     ]
    },
    {
     "name": "stdout",
     "output_type": "stream",
     "text": [
      "-------------------------------------------\n",
      "Batch: 1\n",
      "-------------------------------------------\n",
      "+----+--------------------+\n",
      "| key|               value|\n",
      "+----+--------------------+\n",
      "|NULL|66.111.54.249 - -...|\n",
      "|NULL|66.111.54.249 - -...|\n",
      "|NULL|66.111.54.249 - -...|\n",
      "|NULL|66.111.54.249 - -...|\n",
      "|NULL|66.111.54.249 - -...|\n",
      "|NULL|66.111.54.249 - -...|\n",
      "|NULL|66.111.54.249 - -...|\n",
      "|NULL|66.249.66.194 - -...|\n",
      "|NULL|66.249.66.194 - -...|\n",
      "|NULL|207.46.13.104 - -...|\n",
      "+----+--------------------+\n",
      "\n"
     ]
    },
    {
     "name": "stderr",
     "output_type": "stream",
     "text": [
      "                                                                                \r"
     ]
    },
    {
     "name": "stdout",
     "output_type": "stream",
     "text": [
      "-------------------------------------------\n",
      "Batch: 2\n",
      "-------------------------------------------\n",
      "+----+--------------------+\n",
      "| key|               value|\n",
      "+----+--------------------+\n",
      "|NULL|66.249.66.194 - -...|\n",
      "|NULL|91.99.72.15 - - [...|\n",
      "|NULL|207.46.13.104 - -...|\n",
      "|NULL|54.36.149.77 - - ...|\n",
      "|NULL|66.111.54.249 - -...|\n",
      "+----+--------------------+\n",
      "\n"
     ]
    },
    {
     "name": "stderr",
     "output_type": "stream",
     "text": [
      "                                                                                \r"
     ]
    },
    {
     "name": "stdout",
     "output_type": "stream",
     "text": [
      "-------------------------------------------\n",
      "Batch: 3\n",
      "-------------------------------------------\n",
      "+----+--------------------+\n",
      "| key|               value|\n",
      "+----+--------------------+\n",
      "|NULL|66.111.54.249 - -...|\n",
      "|NULL|54.36.149.102 - -...|\n",
      "|NULL|5.127.80.240 - - ...|\n",
      "|NULL|66.249.66.194 - -...|\n",
      "|NULL|5.123.89.112 - - ...|\n",
      "+----+--------------------+\n",
      "\n"
     ]
    },
    {
     "name": "stderr",
     "output_type": "stream",
     "text": [
      "[Stage 4:>                                                          (0 + 1) / 1]\r"
     ]
    },
    {
     "name": "stdout",
     "output_type": "stream",
     "text": [
      "-------------------------------------------\n",
      "Batch: 4\n",
      "-------------------------------------------\n"
     ]
    },
    {
     "name": "stderr",
     "output_type": "stream",
     "text": [
      "                                                                                \r"
     ]
    },
    {
     "name": "stdout",
     "output_type": "stream",
     "text": [
      "+----+--------------------+\n",
      "| key|               value|\n",
      "+----+--------------------+\n",
      "|NULL|91.99.72.15 - - [...|\n",
      "|NULL|91.99.72.15 - - [...|\n",
      "|NULL|66.249.66.91 - - ...|\n",
      "|NULL|66.111.54.249 - -...|\n",
      "|NULL|66.111.54.249 - -...|\n",
      "+----+--------------------+\n",
      "\n"
     ]
    }
   ],
   "source": [
    "from pyspark.sql import SparkSession\n",
    "\n",
    "# Create Spark session\n",
    "spark = SparkSession.builder \\\n",
    "    .appName(\"KafkaSparkStreaming\") \\\n",
    "    .config(\"spark.jars.packages\", \"org.apache.spark:spark-sql-kafka-0-10_2.12:3.5.3\") \\\n",
    "    .getOrCreate()\n",
    "\n",
    "# Read streaming data from Kafka\n",
    "\n",
    "kafka_df = spark \\\n",
    "    .readStream \\\n",
    "    .format(\"kafka\") \\\n",
    "    .option(\"kafka.bootstrap.servers\", \"kafka:9092\") \\\n",
    "    .option(\"subscribe\", \"mytopic\") \\\n",
    "    .option(\"startingOffsets\", \"earliest\") \\\n",
    "    .load()\n",
    "\n",
    "# Decode Kafka key-value data to strings\n",
    "stream_df = kafka_df.selectExpr(\"CAST(key AS STRING)\", \"CAST(value AS STRING)\")\n",
    "\n",
    "# Write data to console for debugging\n",
    "query = stream_df \\\n",
    "    .writeStream \\\n",
    "    .outputMode(\"append\") \\\n",
    "    .format(\"console\") \\\n",
    "    .start()\n",
    "\n",
    "print(type(query))"
   ]
  },
  {
   "cell_type": "code",
   "execution_count": null,
   "metadata": {},
   "outputs": [],
   "source": [
    "spark.stop()"
   ]
  },
  {
   "cell_type": "code",
   "execution_count": null,
   "metadata": {},
   "outputs": [
    {
     "name": "stderr",
     "output_type": "stream",
     "text": [
      "                                                                                \r"
     ]
    },
    {
     "name": "stdout",
     "output_type": "stream",
     "text": [
      "-------------------------------------------\n",
      "Batch: 10\n",
      "-------------------------------------------\n",
      "-------------------------------------------\n",
      "Batch: 52\n",
      "-------------------------------------------\n",
      "+----+--------------------+\n",
      "| key|               value|\n",
      "+----+--------------------+\n",
      "|NULL|157.55.39.175 - -...|\n",
      "|NULL|207.46.13.136 - -...|\n",
      "|NULL|130.185.74.243 - ...|\n",
      "|NULL|5.209.127.187 - -...|\n",
      "|NULL|66.249.66.91 - - ...|\n",
      "+----+--------------------+\n",
      "\n",
      "+----+--------------------+\n",
      "| key|               value|\n",
      "+----+--------------------+\n",
      "|NULL|157.55.39.175 - -...|\n",
      "|NULL|207.46.13.136 - -...|\n",
      "|NULL|130.185.74.243 - ...|\n",
      "|NULL|5.209.127.187 - -...|\n",
      "|NULL|66.249.66.91 - - ...|\n",
      "+----+--------------------+\n",
      "\n",
      "-------------------------------------------\n",
      "Batch: 53\n",
      "-------------------------------------------\n",
      "-------------------------------------------\n",
      "Batch: 11\n",
      "-------------------------------------------\n",
      "+----+--------------------+\n",
      "| key|               value|\n",
      "+----+--------------------+\n",
      "|NULL|204.18.198.248 - ...|\n",
      "|NULL|130.185.74.243 - ...|\n",
      "|NULL|157.55.39.175 - -...|\n",
      "|NULL|204.18.198.248 - ...|\n",
      "|NULL|157.55.39.175 - -...|\n",
      "+----+--------------------+\n",
      "\n",
      "+----+--------------------+\n",
      "| key|               value|\n",
      "+----+--------------------+\n",
      "|NULL|204.18.198.248 - ...|\n",
      "|NULL|130.185.74.243 - ...|\n",
      "|NULL|157.55.39.175 - -...|\n",
      "|NULL|204.18.198.248 - ...|\n",
      "|NULL|157.55.39.175 - -...|\n",
      "+----+--------------------+\n",
      "\n"
     ]
    },
    {
     "name": "stderr",
     "output_type": "stream",
     "text": [
      "                                                                                \r"
     ]
    },
    {
     "name": "stdout",
     "output_type": "stream",
     "text": [
      "-------------------------------------------\n",
      "Batch: 12\n",
      "-------------------------------------------\n",
      "-------------------------------------------\n",
      "Batch: 54\n",
      "-------------------------------------------\n",
      "+----+--------------------+\n",
      "| key|               value|\n",
      "+----+--------------------+\n",
      "|NULL|5.209.127.187 - -...|\n",
      "|NULL|130.185.74.243 - ...|\n",
      "|NULL|204.18.198.248 - ...|\n",
      "|NULL|17.58.102.43 - - ...|\n",
      "|NULL|66.249.66.91 - - ...|\n",
      "+----+--------------------+\n",
      "\n",
      "+----+--------------------+\n",
      "| key|               value|\n",
      "+----+--------------------+\n",
      "|NULL|5.209.127.187 - -...|\n",
      "|NULL|130.185.74.243 - ...|\n",
      "|NULL|204.18.198.248 - ...|\n",
      "|NULL|17.58.102.43 - - ...|\n",
      "|NULL|66.249.66.91 - - ...|\n",
      "+----+--------------------+\n",
      "\n",
      "-------------------------------------------\n",
      "Batch: 13\n",
      "-------------------------------------------\n",
      "-------------------------------------------\n",
      "Batch: 55\n",
      "-------------------------------------------\n",
      "+----+--------------------+\n",
      "| key|               value|\n",
      "+----+--------------------+\n",
      "|NULL|17.58.102.43 - - ...|\n",
      "|NULL|5.209.127.187 - -...|\n",
      "|NULL|5.209.127.187 - -...|\n",
      "|NULL|5.208.84.157 - - ...|\n",
      "|NULL|5.209.127.187 - -...|\n",
      "+----+--------------------+\n",
      "\n",
      "+----+--------------------+\n",
      "| key|               value|\n",
      "+----+--------------------+\n",
      "|NULL|17.58.102.43 - - ...|\n",
      "|NULL|5.209.127.187 - -...|\n",
      "|NULL|5.209.127.187 - -...|\n",
      "|NULL|5.208.84.157 - - ...|\n",
      "|NULL|5.209.127.187 - -...|\n",
      "+----+--------------------+\n",
      "\n"
     ]
    },
    {
     "name": "stderr",
     "output_type": "stream",
     "text": [
      "                                                                                \r"
     ]
    },
    {
     "name": "stdout",
     "output_type": "stream",
     "text": [
      "-------------------------------------------\n",
      "Batch: 14\n",
      "-------------------------------------------\n",
      "-------------------------------------------\n",
      "Batch: 56\n",
      "-------------------------------------------\n",
      "+----+--------------------+\n",
      "| key|               value|\n",
      "+----+--------------------+\n",
      "|NULL|130.185.74.243 - ...|\n",
      "|NULL|5.123.209.223 - -...|\n",
      "|NULL|5.209.127.187 - -...|\n",
      "|NULL|5.209.127.187 - -...|\n",
      "|NULL|66.249.66.91 - - ...|\n",
      "+----+--------------------+\n",
      "\n",
      "+----+--------------------+\n",
      "| key|               value|\n",
      "+----+--------------------+\n",
      "|NULL|130.185.74.243 - ...|\n",
      "|NULL|5.123.209.223 - -...|\n",
      "|NULL|5.209.127.187 - -...|\n",
      "|NULL|5.209.127.187 - -...|\n",
      "|NULL|66.249.66.91 - - ...|\n",
      "+----+--------------------+\n",
      "\n"
     ]
    },
    {
     "name": "stderr",
     "output_type": "stream",
     "text": [
      "                                                                                \r"
     ]
    },
    {
     "name": "stdout",
     "output_type": "stream",
     "text": [
      "-------------------------------------------\n",
      "Batch: 57\n",
      "-------------------------------------------\n",
      "-------------------------------------------\n",
      "Batch: 15\n",
      "-------------------------------------------\n",
      "+----+--------------------+\n",
      "| key|               value|\n",
      "+----+--------------------+\n",
      "|NULL|5.78.180.75 - - [...|\n",
      "|NULL|5.209.127.187 - -...|\n",
      "|NULL|130.185.74.243 - ...|\n",
      "|NULL|91.99.72.15 - - [...|\n",
      "|NULL|54.36.148.57 - - ...|\n",
      "+----+--------------------+\n",
      "\n",
      "+----+--------------------+\n",
      "| key|               value|\n",
      "+----+--------------------+\n",
      "|NULL|5.78.180.75 - - [...|\n",
      "|NULL|5.209.127.187 - -...|\n",
      "|NULL|130.185.74.243 - ...|\n",
      "|NULL|91.99.72.15 - - [...|\n",
      "|NULL|54.36.148.57 - - ...|\n",
      "+----+--------------------+\n",
      "\n"
     ]
    },
    {
     "name": "stderr",
     "output_type": "stream",
     "text": [
      "                                                                                \r"
     ]
    },
    {
     "name": "stdout",
     "output_type": "stream",
     "text": [
      "-------------------------------------------\n",
      "Batch: 58\n",
      "-------------------------------------------\n",
      "-------------------------------------------\n",
      "Batch: 16\n",
      "-------------------------------------------\n",
      "+----+--------------------+\n",
      "| key|               value|\n",
      "+----+--------------------+\n",
      "|NULL|66.249.66.91 - - ...|\n",
      "|NULL|5.209.127.187 - -...|\n",
      "|NULL|17.58.102.43 - - ...|\n",
      "|NULL|66.249.66.194 - -...|\n",
      "|NULL|130.185.74.243 - ...|\n",
      "+----+--------------------+\n",
      "\n",
      "+----+--------------------+\n",
      "| key|               value|\n",
      "+----+--------------------+\n",
      "|NULL|66.249.66.91 - - ...|\n",
      "|NULL|5.209.127.187 - -...|\n",
      "|NULL|17.58.102.43 - - ...|\n",
      "|NULL|66.249.66.194 - -...|\n",
      "|NULL|130.185.74.243 - ...|\n",
      "+----+--------------------+\n",
      "\n"
     ]
    },
    {
     "name": "stderr",
     "output_type": "stream",
     "text": [
      "                                                                                \r"
     ]
    },
    {
     "name": "stdout",
     "output_type": "stream",
     "text": [
      "-------------------------------------------\n",
      "Batch: 59\n",
      "-------------------------------------------\n",
      "-------------------------------------------\n",
      "Batch: 17\n",
      "-------------------------------------------\n",
      "+----+--------------------+\n",
      "| key|               value|\n",
      "+----+--------------------+\n",
      "|NULL|66.249.66.194 - -...|\n",
      "|NULL|66.249.66.194 - -...|\n",
      "|NULL|130.185.74.243 - ...|\n",
      "|NULL|54.36.148.28 - - ...|\n",
      "|NULL|91.99.72.15 - - [...|\n",
      "+----+--------------------+\n",
      "\n",
      "+----+--------------------+\n",
      "| key|               value|\n",
      "+----+--------------------+\n",
      "|NULL|66.249.66.194 - -...|\n",
      "|NULL|66.249.66.194 - -...|\n",
      "|NULL|130.185.74.243 - ...|\n",
      "|NULL|54.36.148.28 - - ...|\n",
      "|NULL|91.99.72.15 - - [...|\n",
      "+----+--------------------+\n",
      "\n"
     ]
    },
    {
     "name": "stderr",
     "output_type": "stream",
     "text": [
      "                                                                                \r"
     ]
    },
    {
     "name": "stdout",
     "output_type": "stream",
     "text": [
      "-------------------------------------------\n",
      "Batch: 60\n",
      "-------------------------------------------\n",
      "-------------------------------------------\n",
      "Batch: 18\n",
      "-------------------------------------------\n",
      "+----+--------------------+\n",
      "| key|               value|\n",
      "+----+--------------------+\n",
      "|NULL|66.249.66.91 - - ...|\n",
      "|NULL|91.99.72.15 - - [...|\n",
      "|NULL|66.249.66.91 - - ...|\n",
      "|NULL|31.56.96.51 - - [...|\n",
      "|NULL|54.36.148.185 - -...|\n",
      "+----+--------------------+\n",
      "\n",
      "+----+--------------------+\n",
      "| key|               value|\n",
      "+----+--------------------+\n",
      "|NULL|66.249.66.91 - - ...|\n",
      "|NULL|91.99.72.15 - - [...|\n",
      "|NULL|66.249.66.91 - - ...|\n",
      "|NULL|31.56.96.51 - - [...|\n",
      "|NULL|54.36.148.185 - -...|\n",
      "+----+--------------------+\n",
      "\n",
      "-------------------------------------------\n",
      "Batch: 19\n",
      "-------------------------------------------\n",
      "-------------------------------------------\n",
      "Batch: 61\n",
      "-------------------------------------------\n",
      "+----+--------------------+\n",
      "| key|               value|\n",
      "+----+--------------------+\n",
      "|NULL|130.185.74.243 - ...|\n",
      "|NULL|91.99.72.15 - - [...|\n",
      "|NULL|130.185.74.243 - ...|\n",
      "|NULL|31.56.96.51 - - [...|\n",
      "|NULL|31.56.96.51 - - [...|\n",
      "+----+--------------------+\n",
      "\n",
      "+----+--------------------+\n",
      "| key|               value|\n",
      "+----+--------------------+\n",
      "|NULL|130.185.74.243 - ...|\n",
      "|NULL|91.99.72.15 - - [...|\n",
      "|NULL|130.185.74.243 - ...|\n",
      "|NULL|31.56.96.51 - - [...|\n",
      "|NULL|31.56.96.51 - - [...|\n",
      "+----+--------------------+\n",
      "\n"
     ]
    }
   ],
   "source": [
    "\n",
    "query.awaitTermination()"
   ]
  },
  {
   "cell_type": "code",
   "execution_count": null,
   "metadata": {},
   "outputs": [],
   "source": []
  }
 ],
 "metadata": {
  "kernelspec": {
   "display_name": "Python 3 (ipykernel)",
   "language": "python",
   "name": "python3"
  },
  "language_info": {
   "codemirror_mode": {
    "name": "ipython",
    "version": 3
   },
   "file_extension": ".py",
   "mimetype": "text/x-python",
   "name": "python",
   "nbconvert_exporter": "python",
   "pygments_lexer": "ipython3",
   "version": "3.11.6"
  }
 },
 "nbformat": 4,
 "nbformat_minor": 4
}
