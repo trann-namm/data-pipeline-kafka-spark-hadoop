{
 "cells": [
  {
   "cell_type": "code",
   "execution_count": null,
   "id": "6c513ee6-066f-42cb-842f-ae4449a4224e",
   "metadata": {},
   "outputs": [],
   "source": [
    "from pyspark.sql import SparkSession\n",
    "spark = SparkSession.builder \\\n",
    "    .appName(\"Read Parquet Data\") \\\n",
    "    .config(\"spark.hadoop.fs.defaultFS\", \"hdfs://namenode:9000\") \\\n",
    "    .getOrCreate()"
   ]
  },
  {
   "cell_type": "code",
   "execution_count": null,
   "id": "befdfcbe",
   "metadata": {},
   "outputs": [],
   "source": [
    "# read parquet file\n",
    "df = spark.read.parquet(\"hdfs://namenode:9000/user/hive/warehouse/web_logs_partitioned\")\n",
    "\n",
    "# show schema\n",
    "df.printSchema()"
   ]
  },
  {
   "cell_type": "code",
   "execution_count": null,
   "id": "ac6290ef",
   "metadata": {},
   "outputs": [],
   "source": [
    "\n",
    "# show data frame\n",
    "df.show()"
   ]
  },
  {
   "cell_type": "code",
   "execution_count": null,
   "id": "798226e8",
   "metadata": {},
   "outputs": [],
   "source": [
    "df_partition = spark.read.parquet(\n",
    "    \"hdfs://namenode:9000/user/hive/warehouse/web_logs_partitioned/year=2021/month=1/day=22\"\n",
    ")\n",
    "df_partition.show()\n"
   ]
  },
  {
   "cell_type": "code",
   "execution_count": null,
   "id": "72e52647",
   "metadata": {},
   "outputs": [],
   "source": [
    "streaming_df = spark.readStream \\\n",
    "    .format(\"parquet\") \\\n",
    "    .load(\"hdfs://namenode:9000/user/hive/warehouse/web_logs_partitioned_4\")\n"
   ]
  },
  {
   "cell_type": "code",
   "execution_count": null,
   "id": "7a4d93ba",
   "metadata": {},
   "outputs": [],
   "source": [
    "query = streaming_df.writeStream \\\n",
    "    .outputMode(\"append\") \\\n",
    "    .format(\"console\") \\\n",
    "    .start()"
   ]
  },
  {
   "cell_type": "code",
   "execution_count": null,
   "id": "27d61db9",
   "metadata": {},
   "outputs": [],
   "source": [
    "query.awaitTermination()"
   ]
  }
 ],
 "metadata": {
  "kernelspec": {
   "display_name": "Python 3 (ipykernel)",
   "language": "python",
   "name": "python3"
  },
  "language_info": {
   "codemirror_mode": {
    "name": "ipython",
    "version": 3
   },
   "file_extension": ".py",
   "mimetype": "text/x-python",
   "name": "python",
   "nbconvert_exporter": "python",
   "pygments_lexer": "ipython3",
   "version": "3.11.6"
  }
 },
 "nbformat": 4,
 "nbformat_minor": 5
}
