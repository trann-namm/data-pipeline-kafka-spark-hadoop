{
 "cells": [
  {
   "cell_type": "code",
   "execution_count": 2,
   "id": "6c513ee6-066f-42cb-842f-ae4449a4224e",
   "metadata": {},
   "outputs": [
    {
     "name": "stdout",
     "output_type": "stream",
     "text": [
      "done\n"
     ]
    }
   ],
   "source": [
    "from pyspark.sql import SparkSession\n",
    "spark = SparkSession.builder \\\n",
    "    .appName(\"Read Parquet Data\") \\\n",
    "    .config(\"spark.hadoop.fs.defaultFS\", \"hdfs://namenode:9000\") \\\n",
    "    .getOrCreate()\n",
    "print(\"done\")"
   ]
  },
  {
   "cell_type": "code",
   "execution_count": 3,
   "id": "befdfcbe",
   "metadata": {},
   "outputs": [
    {
     "name": "stderr",
     "output_type": "stream",
     "text": [
      "                                                                                \r"
     ]
    },
    {
     "name": "stdout",
     "output_type": "stream",
     "text": [
      "root\n",
      " |-- client: string (nullable = true)\n",
      " |-- datetime: string (nullable = true)\n",
      " |-- request: string (nullable = true)\n",
      " |-- status: string (nullable = true)\n",
      " |-- size: string (nullable = true)\n",
      " |-- referrer: string (nullable = true)\n",
      " |-- useragent: string (nullable = true)\n",
      " |-- date: date (nullable = true)\n",
      " |-- year: integer (nullable = true)\n",
      " |-- month: integer (nullable = true)\n",
      " |-- day: integer (nullable = true)\n",
      "\n"
     ]
    }
   ],
   "source": [
    "# read parquet file\n",
    "df = spark.read.parquet(\"hdfs://namenode:9000/user/hive/warehouse/web_logs_partitioned\")\n",
    "\n",
    "# show schema\n",
    "df.printSchema()"
   ]
  },
  {
   "cell_type": "code",
   "execution_count": 4,
   "id": "ac6290ef",
   "metadata": {},
   "outputs": [
    {
     "name": "stderr",
     "output_type": "stream",
     "text": [
      "                                                                                \r"
     ]
    },
    {
     "name": "stdout",
     "output_type": "stream",
     "text": [
      "+-------------+--------------------+--------------------+------+-----+--------------------+--------------------+----------+----+-----+---+\n",
      "|       client|            datetime|             request|status| size|            referrer|           useragent|      date|year|month|day|\n",
      "+-------------+--------------------+--------------------+------+-----+--------------------+--------------------+----------+----+-----+---+\n",
      "| 54.36.149.41|22/Jan/2019:03:56...|GET /filter/27|13...|   200|30577|                   -|Mozilla/5.0 (comp...|2019-01-22|2019|    1| 22|\n",
      "|  31.56.96.51|22/Jan/2019:03:56...|GET /image/60844/...|   200| 5667|https://www.zanbi...|Mozilla/5.0 (Linu...|2019-01-22|2019|    1| 22|\n",
      "|  31.56.96.51|22/Jan/2019:03:56...|GET /image/61474/...|   200| 5379|https://www.zanbi...|Mozilla/5.0 (Linu...|2019-01-22|2019|    1| 22|\n",
      "|40.77.167.129|22/Jan/2019:03:56...|GET /image/14925/...|   200| 1696|                   -|Mozilla/5.0 (comp...|2019-01-22|2019|    1| 22|\n",
      "|  91.99.72.15|22/Jan/2019:03:56...|GET /product/3189...|   200|41483|                   -|Mozilla/5.0 (Wind...|2019-01-22|2019|    1| 22|\n",
      "|40.77.167.129|22/Jan/2019:03:56...|GET /image/23488/...|   200| 2654|                   -|Mozilla/5.0 (comp...|2019-01-22|2019|    1| 22|\n",
      "|40.77.167.129|22/Jan/2019:03:56...|GET /image/45437/...|   200| 3688|                   -|Mozilla/5.0 (comp...|2019-01-22|2019|    1| 22|\n",
      "|40.77.167.129|22/Jan/2019:03:56...|GET /image/576/ar...|   200|14776|                   -|Mozilla/5.0 (comp...|2019-01-22|2019|    1| 22|\n",
      "|66.249.66.194|22/Jan/2019:03:56...|GET /filter/b41,b...|   200|34277|                   -|Mozilla/5.0 (comp...|2019-01-22|2019|    1| 22|\n",
      "|40.77.167.129|22/Jan/2019:03:56...|GET /image/57710/...|   200| 1695|                   -|Mozilla/5.0 (comp...|2019-01-22|2019|    1| 22|\n",
      "|207.46.13.136|22/Jan/2019:03:56...|GET /product/1021...|   200|39677|                   -|Mozilla/5.0 (comp...|2019-01-22|2019|    1| 22|\n",
      "|40.77.167.129|22/Jan/2019:03:56...|GET /image/578/ar...|   200| 9831|                   -|Mozilla/5.0 (comp...|2019-01-22|2019|    1| 22|\n",
      "|178.253.33.51|22/Jan/2019:03:56...|GET /m/product/32...|   200|20406|https://www.zanbi...|Mozilla/5.0 (Linu...|2019-01-22|2019|    1| 22|\n",
      "|40.77.167.129|22/Jan/2019:03:56...|GET /image/6229/p...|   200| 1796|                   -|Mozilla/5.0 (comp...|2019-01-22|2019|    1| 22|\n",
      "|  91.99.72.15|22/Jan/2019:03:56...|GET /product/1007...|   200|41725|                   -|Mozilla/5.0 (X11;...|2019-01-22|2019|    1| 22|\n",
      "|40.77.167.129|22/Jan/2019:03:56...|GET /image/6229/p...|   200| 2739|                   -|Mozilla/5.0 (comp...|2019-01-22|2019|    1| 22|\n",
      "|207.46.13.136|22/Jan/2019:03:56...|GET /product/1492...|   404|33617|                   -|Mozilla/5.0 (comp...|2019-01-22|2019|    1| 22|\n",
      "|40.77.167.129|22/Jan/2019:03:56...|GET /image/6248/p...|   200| 2788|                   -|Mozilla/5.0 (comp...|2019-01-22|2019|    1| 22|\n",
      "|40.77.167.129|22/Jan/2019:03:56...|GET /image/64815/...|   200| 3481|                   -|Mozilla/5.0 (comp...|2019-01-22|2019|    1| 22|\n",
      "|66.249.66.194|22/Jan/2019:03:56...|GET /m/filter/b2,...|   200|19451|                   -|Mozilla/5.0 (Linu...|2019-01-22|2019|    1| 22|\n",
      "+-------------+--------------------+--------------------+------+-----+--------------------+--------------------+----------+----+-----+---+\n",
      "only showing top 20 rows\n",
      "\n"
     ]
    }
   ],
   "source": [
    "\n",
    "# show data frame\n",
    "df.show()"
   ]
  },
  {
   "cell_type": "code",
   "execution_count": 6,
   "id": "798226e8",
   "metadata": {},
   "outputs": [
    {
     "name": "stderr",
     "output_type": "stream",
     "text": [
      "                                                                                \r"
     ]
    },
    {
     "name": "stdout",
     "output_type": "stream",
     "text": [
      "+-------------+--------------------+--------------------+------+-----+--------------------+--------------------+----------+\n",
      "|       client|            datetime|             request|status| size|            referrer|           useragent|      date|\n",
      "+-------------+--------------------+--------------------+------+-----+--------------------+--------------------+----------+\n",
      "| 54.36.149.41|22/Jan/2019:03:56...|GET /filter/27|13...|   200|30577|                   -|Mozilla/5.0 (comp...|2019-01-22|\n",
      "|  31.56.96.51|22/Jan/2019:03:56...|GET /image/60844/...|   200| 5667|https://www.zanbi...|Mozilla/5.0 (Linu...|2019-01-22|\n",
      "|  31.56.96.51|22/Jan/2019:03:56...|GET /image/61474/...|   200| 5379|https://www.zanbi...|Mozilla/5.0 (Linu...|2019-01-22|\n",
      "|40.77.167.129|22/Jan/2019:03:56...|GET /image/14925/...|   200| 1696|                   -|Mozilla/5.0 (comp...|2019-01-22|\n",
      "|  91.99.72.15|22/Jan/2019:03:56...|GET /product/3189...|   200|41483|                   -|Mozilla/5.0 (Wind...|2019-01-22|\n",
      "|40.77.167.129|22/Jan/2019:03:56...|GET /image/23488/...|   200| 2654|                   -|Mozilla/5.0 (comp...|2019-01-22|\n",
      "|40.77.167.129|22/Jan/2019:03:56...|GET /image/45437/...|   200| 3688|                   -|Mozilla/5.0 (comp...|2019-01-22|\n",
      "|40.77.167.129|22/Jan/2019:03:56...|GET /image/576/ar...|   200|14776|                   -|Mozilla/5.0 (comp...|2019-01-22|\n",
      "|66.249.66.194|22/Jan/2019:03:56...|GET /filter/b41,b...|   200|34277|                   -|Mozilla/5.0 (comp...|2019-01-22|\n",
      "|40.77.167.129|22/Jan/2019:03:56...|GET /image/57710/...|   200| 1695|                   -|Mozilla/5.0 (comp...|2019-01-22|\n",
      "|207.46.13.136|22/Jan/2019:03:56...|GET /product/1021...|   200|39677|                   -|Mozilla/5.0 (comp...|2019-01-22|\n",
      "|40.77.167.129|22/Jan/2019:03:56...|GET /image/578/ar...|   200| 9831|                   -|Mozilla/5.0 (comp...|2019-01-22|\n",
      "|178.253.33.51|22/Jan/2019:03:56...|GET /m/product/32...|   200|20406|https://www.zanbi...|Mozilla/5.0 (Linu...|2019-01-22|\n",
      "|40.77.167.129|22/Jan/2019:03:56...|GET /image/6229/p...|   200| 1796|                   -|Mozilla/5.0 (comp...|2019-01-22|\n",
      "|  91.99.72.15|22/Jan/2019:03:56...|GET /product/1007...|   200|41725|                   -|Mozilla/5.0 (X11;...|2019-01-22|\n",
      "|40.77.167.129|22/Jan/2019:03:56...|GET /image/6229/p...|   200| 2739|                   -|Mozilla/5.0 (comp...|2019-01-22|\n",
      "|207.46.13.136|22/Jan/2019:03:56...|GET /product/1492...|   404|33617|                   -|Mozilla/5.0 (comp...|2019-01-22|\n",
      "|40.77.167.129|22/Jan/2019:03:56...|GET /image/6248/p...|   200| 2788|                   -|Mozilla/5.0 (comp...|2019-01-22|\n",
      "|40.77.167.129|22/Jan/2019:03:56...|GET /image/64815/...|   200| 3481|                   -|Mozilla/5.0 (comp...|2019-01-22|\n",
      "|66.249.66.194|22/Jan/2019:03:56...|GET /m/filter/b2,...|   200|19451|                   -|Mozilla/5.0 (Linu...|2019-01-22|\n",
      "+-------------+--------------------+--------------------+------+-----+--------------------+--------------------+----------+\n",
      "only showing top 20 rows\n",
      "\n"
     ]
    }
   ],
   "source": [
    "df_partition = spark.read.parquet(\n",
    "    \"hdfs://namenode:9000/user/hive/warehouse/web_logs_partitioned/year=2019/month=1/day=22\"\n",
    ")\n",
    "df_partition.show()\n"
   ]
  },
  {
   "cell_type": "code",
   "execution_count": null,
   "id": "72e52647",
   "metadata": {},
   "outputs": [],
   "source": [
    "streaming_df = spark.readStream \\\n",
    "    .format(\"parquet\") \\\n",
    "    .option(\"path\", \"hdfs://namenode:9000/user/hive/warehouse/web_logs_partitioned\") \\\n",
    "    .load()\n",
    "print(\"done\")"
   ]
  },
  {
   "cell_type": "code",
   "execution_count": null,
   "id": "7a4d93ba",
   "metadata": {},
   "outputs": [],
   "source": [
    "query = streaming_df.writeStream \\\n",
    "    .outputMode(\"append\") \\\n",
    "    .format(\"console\") \\\n",
    "    .start()"
   ]
  },
  {
   "cell_type": "code",
   "execution_count": null,
   "id": "27d61db9",
   "metadata": {},
   "outputs": [],
   "source": [
    "query.awaitTermination()"
   ]
  },
  {
   "cell_type": "code",
   "execution_count": null,
   "id": "5d5d05d2-c665-4ec7-b313-009266931abd",
   "metadata": {},
   "outputs": [],
   "source": []
  }
 ],
 "metadata": {
  "kernelspec": {
   "display_name": "Python 3 (ipykernel)",
   "language": "python",
   "name": "python3"
  },
  "language_info": {
   "codemirror_mode": {
    "name": "ipython",
    "version": 3
   },
   "file_extension": ".py",
   "mimetype": "text/x-python",
   "name": "python",
   "nbconvert_exporter": "python",
   "pygments_lexer": "ipython3",
   "version": "3.11.6"
  }
 },
 "nbformat": 4,
 "nbformat_minor": 5
}
